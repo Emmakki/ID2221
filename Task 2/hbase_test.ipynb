{
 "cells": [
  {
   "cell_type": "markdown",
   "metadata": {},
   "source": [
    "# Install Java"
   ]
  },
  {
   "cell_type": "code",
   "execution_count": null,
   "metadata": {},
   "outputs": [],
   "source": [
    "!sudo apt-get update\n",
    "!sudo apt-get install openjdk-11-jdk -y\n",
    "!java -version"
   ]
  },
  {
   "cell_type": "code",
   "execution_count": null,
   "metadata": {},
   "outputs": [],
   "source": [
    "# Install HBase"
   ]
  },
  {
   "cell_type": "code",
   "execution_count": null,
   "metadata": {},
   "outputs": [],
   "source": [
    "!wget https://downloads.apache.org/hbase/2.5.10/hbase-2.5.10-bin.tar.gz\n",
    "!tar xvf hbase-2.5.10-bin.tar.gz"
   ]
  },
  {
   "cell_type": "code",
   "execution_count": null,
   "metadata": {},
   "outputs": [],
   "source": [
    "!sudo mv hbase-2.5.10 /opt/hbase"
   ]
  },
  {
   "cell_type": "code",
   "execution_count": 2,
   "metadata": {},
   "outputs": [],
   "source": [
    "# Update HBase environment configuration\n",
    "!sed -i 's|# export JAVA_HOME=.*|export JAVA_HOME=/usr/lib/jvm/java-11-openjdk-amd64|' /opt/hbase/conf/hbase-env.sh"
   ]
  },
  {
   "cell_type": "code",
   "execution_count": null,
   "metadata": {},
   "outputs": [],
   "source": [
    "# Verify JAVA_HOME and set if necessary\\n\",\n",
    "import os\n",
    "\n",
    "# Check if JAVA_HOME is set, if not set it to the correct path\\n\",\n",
    "java_home = '/usr/lib/jvm/java-11-openjdk-amd64'\n",
    "if not os.path.exists(java_home):\n",
    "    raise FileNotFoundError(f'Java path not found: {java_home}')\n",
    "\n",
    "# Set JAVA_HOME and update PATH\\n\",\n",
    "os.environ['JAVA_HOME'] = java_home\n",
    "os.environ['PATH'] = java_home + '/bin:' + os.environ['PATH']\n",
    "\n",
    "# Verify the java version to confirm setup\\n\",\n",
    "!java -version"
   ]
  },
  {
   "cell_type": "code",
   "execution_count": null,
   "metadata": {},
   "outputs": [],
   "source": [
    "# Start HBase\n",
    "import os\n",
    "os.chdir('/opt/hbase')\n",
    "!bin/start-hbase.sh"
   ]
  },
  {
   "cell_type": "code",
   "execution_count": 7,
   "metadata": {},
   "outputs": [
    {
     "name": "stdout",
     "output_type": "stream",
     "text": [
      "29456 HMaster\n",
      "30352 Jps\n"
     ]
    }
   ],
   "source": [
    "!jps"
   ]
  },
  {
   "cell_type": "code",
   "execution_count": 8,
   "metadata": {},
   "outputs": [
    {
     "name": "stdout",
     "output_type": "stream",
     "text": [
      "HBase Shell\n",
      "Use \"help\" to get list of supported commands.\n",
      "Use \"exit\" to quit this interactive shell.\n",
      "For Reference, please visit: http://hbase.apache.org/2.0/book.html#shell\n",
      "Version 2.5.10, ra3af60980c61fb4be31e0dcd89880f304d01098a, Thu Jul 18 22:45:17 PDT 2024\n",
      "Took 0.0031 seconds                                                             \n",
      "hbase:001:0> \n",
      "hbase:002:0> create 'my_table', 'cf1'\n",
      "Created table my_table\n",
      "Took 0.9232 seconds                                                             \n",
      "=> Hbase::Table - my_table\n",
      "hbase:003:0> list\n",
      "TABLE                                                                           \n",
      "my_table                                                                        \n",
      "1 row(s)\n",
      "Took 0.0209 seconds                                                             \n",
      "=> [\"my_table\"]\n",
      "hbase:004:0> exit\n"
     ]
    }
   ],
   "source": [
    "# Create HBase Table\n",
    "hbase_commands = '''\n",
    "create 'my_table', 'cf1'\n",
    "list\n",
    "exit\n",
    "'''\n",
    "\n",
    "# Pass the commands to the HBase shell\n",
    "with open('create_table.txt', 'w') as file:\n",
    "    file.write(hbase_commands)\n",
    "\n",
    "!cat create_table.txt | /opt/hbase/bin/hbase shell"
   ]
  }
 ],
 "metadata": {
  "kernelspec": {
   "display_name": "Python 3",
   "language": "python",
   "name": "python3"
  },
  "language_info": {
   "codemirror_mode": {
    "name": "ipython",
    "version": 3
   },
   "file_extension": ".py",
   "mimetype": "text/x-python",
   "name": "python",
   "nbconvert_exporter": "python",
   "pygments_lexer": "ipython3",
   "version": "3.12.3"
  }
 },
 "nbformat": 4,
 "nbformat_minor": 2
}
