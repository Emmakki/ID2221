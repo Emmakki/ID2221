{
  "cells": [
    {
      "cell_type": "markdown",
      "metadata": {
        "id": "bdSDlivzQnP_"
      },
      "source": [
        "# Install Java"
      ]
    },
    {
      "cell_type": "code",
      "execution_count": null,
      "metadata": {
        "id": "gytL-E1XQjsT"
      },
      "outputs": [],
      "source": [
        "!sudo apt-get update\n",
        "!sudo apt-get install openjdk-11-jdk -y"
      ]
    },
    {
      "cell_type": "code",
      "execution_count": 1,
      "metadata": {},
      "outputs": [
        {
          "name": "stdout",
          "output_type": "stream",
          "text": [
            "openjdk version \"11.0.24\" 2024-07-16\n",
            "OpenJDK Runtime Environment (build 11.0.24+8-post-Ubuntu-1ubuntu324.04.1)\n",
            "OpenJDK 64-Bit Server VM (build 11.0.24+8-post-Ubuntu-1ubuntu324.04.1, mixed mode, sharing)\n"
          ]
        }
      ],
      "source": [
        "!java -version"
      ]
    },
    {
      "cell_type": "code",
      "execution_count": 2,
      "metadata": {},
      "outputs": [
        {
          "name": "stdout",
          "output_type": "stream",
          "text": [
            "/usr/lib/jvm/java-11-openjdk-amd64/bin/java\n"
          ]
        }
      ],
      "source": [
        "!readlink -f $(which java)"
      ]
    },
    {
      "cell_type": "code",
      "execution_count": 3,
      "metadata": {},
      "outputs": [],
      "source": [
        "import os\n",
        "os.environ[\"JAVA_HOME\"] = \"/usr/lib/jvm/java-11-openjdk-amd64\""
      ]
    },
    {
      "cell_type": "markdown",
      "metadata": {
        "id": "HlP0pRv-Q5fA"
      },
      "source": [
        "# Install HBase"
      ]
    },
    {
      "cell_type": "code",
      "execution_count": null,
      "metadata": {
        "id": "s6diX-x1Q7wi"
      },
      "outputs": [],
      "source": [
        "!wget https://downloads.apache.org/hbase/2.5.10/hbase-2.5.10-bin.tar.gz\n",
        "!tar xvf hbase-2.5.10-bin.tar.gz"
      ]
    },
    {
      "cell_type": "code",
      "execution_count": null,
      "metadata": {
        "id": "QfkzaAZRSgTd"
      },
      "outputs": [],
      "source": [
        "! mv hbase-2.5.10 /opt/hbase"
      ]
    },
    {
      "cell_type": "code",
      "execution_count": 4,
      "metadata": {
        "id": "VkA1WSGaSU7v"
      },
      "outputs": [],
      "source": [
        "!sed -i 's|# export JAVA_HOME=.*|export JAVA_HOME=/usr/lib/jvm/java-11-openjdk-amd64|' /opt/hbase/conf/hbase-env.sh"
      ]
    },
    {
      "cell_type": "code",
      "execution_count": 5,
      "metadata": {},
      "outputs": [
        {
          "name": "stdout",
          "output_type": "stream",
          "text": [
            "openjdk version \"11.0.24\" 2024-07-16\n",
            "OpenJDK Runtime Environment (build 11.0.24+8-post-Ubuntu-1ubuntu324.04.1)\n",
            "OpenJDK 64-Bit Server VM (build 11.0.24+8-post-Ubuntu-1ubuntu324.04.1, mixed mode, sharing)\n"
          ]
        }
      ],
      "source": [
        "# Verify JAVA_HOME\n",
        "import os\n",
        "\n",
        "# Check if JAVA_HOME is set, if not set it to the correct path\n",
        "java_home = '/usr/lib/jvm/java-11-openjdk-amd64'\n",
        "if not os.path.exists(java_home):\n",
        "    raise FileNotFoundError(f'Java path not found: {java_home}')\n",
        "os.environ['JAVA_HOME'] = java_home\n",
        "os.environ['PATH'] = java_home + '/bin:' + os.environ['PATH']\n",
        "\n",
        "\n",
        "!java -version"
      ]
    },
    {
      "cell_type": "code",
      "execution_count": 6,
      "metadata": {
        "colab": {
          "base_uri": "https://localhost:8080/"
        },
        "id": "hgjj1OgYSoay",
        "outputId": "a24bcb61-8431-469d-f49a-4bac229782d7"
      },
      "outputs": [
        {
          "name": "stdout",
          "output_type": "stream",
          "text": [
            "running master, logging to /opt/hbase/bin/../logs/hbase-emma-master-emma-Inspiron-3501.out\n"
          ]
        }
      ],
      "source": [
        "#Start HBase\n",
        "!/opt/hbase/bin/start-hbase.sh"
      ]
    },
    {
      "cell_type": "code",
      "execution_count": 9,
      "metadata": {
        "colab": {
          "base_uri": "https://localhost:8080/"
        },
        "id": "KvzRQAdsS1Io",
        "outputId": "2578b959-319a-46a4-c5fd-065b4544db36"
      },
      "outputs": [
        {
          "name": "stdout",
          "output_type": "stream",
          "text": [
            "350259 Jps\n",
            "349730 HMaster\n"
          ]
        }
      ],
      "source": [
        "!jps"
      ]
    },
    {
      "cell_type": "markdown",
      "metadata": {
        "id": "v5mLrlaUU9HJ"
      },
      "source": [
        "# Install Spark"
      ]
    },
    {
      "cell_type": "code",
      "execution_count": null,
      "metadata": {
        "id": "mEwy7ngLU_2V"
      },
      "outputs": [],
      "source": [
        "!wget -v https://dlcdn.apache.org/spark/spark-3.4.3/spark-3.4.3-bin-hadoop3.tgz"
      ]
    },
    {
      "cell_type": "code",
      "execution_count": null,
      "metadata": {
        "id": "E-Ehg8VwVYaQ"
      },
      "outputs": [],
      "source": [
        "!tar xvf spark-3.4.3-bin-hadoop3.tgz"
      ]
    },
    {
      "cell_type": "code",
      "execution_count": 15,
      "metadata": {
        "id": "W3FDtegtVjjA"
      },
      "outputs": [
        {
          "name": "stdout",
          "output_type": "stream",
          "text": [
            "Defaulting to user installation because normal site-packages is not writeable\n",
            "Collecting findspark\n",
            "  Downloading findspark-2.0.1-py2.py3-none-any.whl.metadata (352 bytes)\n",
            "Downloading findspark-2.0.1-py2.py3-none-any.whl (4.4 kB)\n",
            "Installing collected packages: findspark\n",
            "Successfully installed findspark-2.0.1\n"
          ]
        }
      ],
      "source": [
        "!pip3 install findspark --break-system-packages"
      ]
    },
    {
      "cell_type": "code",
      "execution_count": null,
      "metadata": {},
      "outputs": [],
      "source": [
        "! mv spark-3.4.3-bin-hadoop3 /opt/spark"
      ]
    },
    {
      "cell_type": "code",
      "execution_count": 21,
      "metadata": {
        "id": "Karo_bC2VkeI"
      },
      "outputs": [],
      "source": [
        "import os\n",
        "import findspark\n",
        "\n",
        "os.environ[\"SPARK_HOME\"] = \"/opt/spark\"\n",
        "\n",
        "# Initialize PySpark\n",
        "findspark.init()\n"
      ]
    },
    {
      "cell_type": "markdown",
      "metadata": {
        "id": "49iKscI-TLmX"
      },
      "source": [
        "# Collect data"
      ]
    },
    {
      "cell_type": "markdown",
      "metadata": {
        "id": "I0Jm1N1AWz4k"
      },
      "source": [
        "Download csv file from https://obis.org/data/access/#"
      ]
    },
    {
      "cell_type": "code",
      "execution_count": null,
      "metadata": {
        "id": "942hT7sNTOxw"
      },
      "outputs": [],
      "source": [
        "import happybase\n",
        "import csv\n",
        "\n",
        "connection = happybase.Connection('localhost', port=9090)\n",
        "\n",
        "try:\n",
        "    connection.create_table(\n",
        "        'OBIS',\n",
        "        {'cf': dict()}  # 'cf' is the column family\n",
        "    )\n",
        "except happybase.hbase.ttypes.AlreadyExists:\n",
        "    print(\"Table 'OBIS' already exists\")\n",
        "\n",
        "table = connection.table('OBIS')\n",
        "\n",
        "with open('obis_20230208.csv', 'r') as f:\n",
        "    reader = csv.reader(f)\n",
        "    headers = next(reader)\n",
        "    for row in reader:\n",
        "        hbase_data = {f'cf:{headers[i]}': row[i] for i in range(1, len(row))}\n",
        "        # Insert the data into HBase\n",
        "        table.put(row[0], hbase_data)\n",
        "\n",
        "connection.close()"
      ]
    },
    {
      "cell_type": "code",
      "execution_count": 23,
      "metadata": {
        "colab": {
          "base_uri": "https://localhost:8080/"
        },
        "id": "Ch4EE5AUmkZh",
        "outputId": "caa8717d-3603-4834-b9ed-9ccd6d8c4ef1"
      },
      "outputs": [
        {
          "name": "stdout",
          "output_type": "stream",
          "text": [
            "stopping hbase...........\n"
          ]
        }
      ],
      "source": [
        "#Stop HBase\n",
        "!/opt/hbase/bin/stop-hbase.sh"
      ]
    },
    {
      "cell_type": "code",
      "execution_count": 24,
      "metadata": {
        "colab": {
          "base_uri": "https://localhost:8080/"
        },
        "id": "A7LSCI-lmp3U",
        "outputId": "5173776e-1205-4bde-d9ab-c17d74d3fbff"
      },
      "outputs": [
        {
          "name": "stdout",
          "output_type": "stream",
          "text": [
            "354283 Jps\n"
          ]
        }
      ],
      "source": [
        "!jps"
      ]
    }
  ],
  "metadata": {
    "colab": {
      "provenance": []
    },
    "kernelspec": {
      "display_name": "Python 3",
      "name": "python3"
    },
    "language_info": {
      "codemirror_mode": {
        "name": "ipython",
        "version": 3
      },
      "file_extension": ".py",
      "mimetype": "text/x-python",
      "name": "python",
      "nbconvert_exporter": "python",
      "pygments_lexer": "ipython3",
      "version": "3.12.3"
    }
  },
  "nbformat": 4,
  "nbformat_minor": 0
}
