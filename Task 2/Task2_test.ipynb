{
  "cells": [
    {
      "cell_type": "markdown",
      "metadata": {
        "id": "bdSDlivzQnP_"
      },
      "source": [
        "# Install Java"
      ]
    },
    {
      "cell_type": "code",
      "execution_count": null,
      "metadata": {
        "id": "gytL-E1XQjsT"
      },
      "outputs": [],
      "source": [
        "!sudo apt-get update\n",
        "!sudo apt-get install openjdk-11-jdk -y"
      ]
    },
    {
      "cell_type": "code",
      "execution_count": null,
      "metadata": {},
      "outputs": [],
      "source": [
        "!java -version"
      ]
    },
    {
      "cell_type": "code",
      "execution_count": null,
      "metadata": {},
      "outputs": [],
      "source": [
        "!readlink -f $(which java)"
      ]
    },
    {
      "cell_type": "code",
      "execution_count": 3,
      "metadata": {},
      "outputs": [],
      "source": [
        "import os\n",
        "os.environ[\"JAVA_HOME\"] = \"/usr/lib/jvm/java-11-openjdk-amd64\""
      ]
    },
    {
      "cell_type": "markdown",
      "metadata": {
        "id": "HlP0pRv-Q5fA"
      },
      "source": [
        "# Install HBase"
      ]
    },
    {
      "cell_type": "code",
      "execution_count": null,
      "metadata": {
        "id": "s6diX-x1Q7wi"
      },
      "outputs": [],
      "source": [
        "!wget https://downloads.apache.org/hbase/2.5.10/hbase-2.5.10-bin.tar.gz\n",
        "!tar xvf hbase-2.5.10-bin.tar.gz"
      ]
    },
    {
      "cell_type": "code",
      "execution_count": null,
      "metadata": {
        "id": "QfkzaAZRSgTd"
      },
      "outputs": [],
      "source": [
        "! mv hbase-2.5.10 /opt/hbase"
      ]
    },
    {
      "cell_type": "code",
      "execution_count": 4,
      "metadata": {
        "id": "VkA1WSGaSU7v"
      },
      "outputs": [],
      "source": [
        "!sed -i 's|# export JAVA_HOME=.*|export JAVA_HOME=/usr/lib/jvm/java-11-openjdk-amd64|' /opt/hbase/conf/hbase-env.sh"
      ]
    },
    {
      "cell_type": "code",
      "execution_count": null,
      "metadata": {},
      "outputs": [],
      "source": [
        "# Verify JAVA_HOME\n",
        "import os\n",
        "\n",
        "# Check if JAVA_HOME is set, if not set it to the correct path\n",
        "java_home = '/usr/lib/jvm/java-11-openjdk-amd64'\n",
        "if not os.path.exists(java_home):\n",
        "    raise FileNotFoundError(f'Java path not found: {java_home}')\n",
        "os.environ['JAVA_HOME'] = java_home\n",
        "os.environ['PATH'] = java_home + '/bin:' + os.environ['PATH']\n",
        "\n",
        "\n",
        "!java -version"
      ]
    },
    {
      "cell_type": "code",
      "execution_count": null,
      "metadata": {
        "colab": {
          "base_uri": "https://localhost:8080/"
        },
        "id": "hgjj1OgYSoay",
        "outputId": "a24bcb61-8431-469d-f49a-4bac229782d7"
      },
      "outputs": [],
      "source": [
        "#Start HBase\n",
        "!/opt/hbase/bin/start-hbase.sh"
      ]
    },
    {
      "cell_type": "code",
      "execution_count": null,
      "metadata": {
        "colab": {
          "base_uri": "https://localhost:8080/"
        },
        "id": "KvzRQAdsS1Io",
        "outputId": "2578b959-319a-46a4-c5fd-065b4544db36"
      },
      "outputs": [],
      "source": [
        "!jps"
      ]
    },
    {
      "cell_type": "markdown",
      "metadata": {
        "id": "v5mLrlaUU9HJ"
      },
      "source": [
        "# Install Spark"
      ]
    },
    {
      "cell_type": "code",
      "execution_count": null,
      "metadata": {
        "id": "mEwy7ngLU_2V"
      },
      "outputs": [],
      "source": [
        "!wget -v https://dlcdn.apache.org/spark/spark-3.4.3/spark-3.4.3-bin-hadoop3.tgz"
      ]
    },
    {
      "cell_type": "code",
      "execution_count": null,
      "metadata": {
        "id": "E-Ehg8VwVYaQ"
      },
      "outputs": [],
      "source": [
        "!tar xvf spark-3.4.3-bin-hadoop3.tgz"
      ]
    },
    {
      "cell_type": "code",
      "execution_count": null,
      "metadata": {
        "id": "W3FDtegtVjjA"
      },
      "outputs": [],
      "source": [
        "!pip3 install findspark --break-system-packages"
      ]
    },
    {
      "cell_type": "code",
      "execution_count": null,
      "metadata": {},
      "outputs": [],
      "source": [
        "! mv spark-3.4.3-bin-hadoop3 /opt/spark"
      ]
    },
    {
      "cell_type": "code",
      "execution_count": 3,
      "metadata": {
        "id": "Karo_bC2VkeI"
      },
      "outputs": [],
      "source": [
        "import os\n",
        "import findspark\n",
        "\n",
        "os.environ[\"SPARK_HOME\"] = \"/opt/spark\"\n",
        "\n",
        "# Initialize PySpark\n",
        "findspark.init()\n"
      ]
    },
    {
      "cell_type": "markdown",
      "metadata": {
        "id": "49iKscI-TLmX"
      },
      "source": [
        "# Collect data"
      ]
    },
    {
      "cell_type": "markdown",
      "metadata": {
        "id": "I0Jm1N1AWz4k"
      },
      "source": [
        "Download csv file from https://obis.org/data/access/#"
      ]
    },
    {
      "cell_type": "code",
      "execution_count": null,
      "metadata": {},
      "outputs": [],
      "source": [
        "!echo \"create 'OBIS', 'cf'\" | /opt/hbase/bin/hbase shell"
      ]
    },
    {
      "cell_type": "code",
      "execution_count": 6,
      "metadata": {},
      "outputs": [],
      "source": [
        "from pyspark.sql import SparkSession\n",
        "\n",
        "# Start Spark Session with HBase connector\n",
        "spark = SparkSession.builder \\\n",
        "    .appName(\"HBase-PySpark-Connection\") \\\n",
        "    .config(\"spark.jars.packages\", \"org.apache.hbase.connectors.spark:hbase-spark:1.0.1\") \\\n",
        "    .getOrCreate()"
      ]
    },
    {
      "cell_type": "code",
      "execution_count": null,
      "metadata": {},
      "outputs": [],
      "source": [
        "df = spark.read \\\n",
        "    .format(\"org.apache.hbase.connectors.spark\") \\\n",
        "    .option(\"hbase.table.name\", \"OBIS\") \\\n",
        "    .load()\n",
        "\n",
        "df.show()"
      ]
    },
    {
      "cell_type": "code",
      "execution_count": 12,
      "metadata": {},
      "outputs": [],
      "source": [
        "spark.stop()"
      ]
    },
    {
      "cell_type": "code",
      "execution_count": null,
      "metadata": {
        "colab": {
          "base_uri": "https://localhost:8080/"
        },
        "id": "Ch4EE5AUmkZh",
        "outputId": "caa8717d-3603-4834-b9ed-9ccd6d8c4ef1"
      },
      "outputs": [],
      "source": [
        "#Stop HBase\n",
        "!/opt/hbase/bin/stop-hbase.sh"
      ]
    },
    {
      "cell_type": "code",
      "execution_count": null,
      "metadata": {
        "colab": {
          "base_uri": "https://localhost:8080/"
        },
        "id": "A7LSCI-lmp3U",
        "outputId": "5173776e-1205-4bde-d9ab-c17d74d3fbff"
      },
      "outputs": [],
      "source": [
        "!jps"
      ]
    }
  ],
  "metadata": {
    "colab": {
      "provenance": []
    },
    "kernelspec": {
      "display_name": "Python 3",
      "name": "python3"
    },
    "language_info": {
      "codemirror_mode": {
        "name": "ipython",
        "version": 3
      },
      "file_extension": ".py",
      "mimetype": "text/x-python",
      "name": "python",
      "nbconvert_exporter": "python",
      "pygments_lexer": "ipython3",
      "version": "3.12.3"
    }
  },
  "nbformat": 4,
  "nbformat_minor": 0
}
