{
 "cells": [
  {
   "cell_type": "markdown",
   "id": "a45da54b",
   "metadata": {},
   "source": [
    "# Install Java"
   ]
  },
  {
   "cell_type": "code",
   "execution_count": null,
   "id": "3c4bd45e",
   "metadata": {},
   "outputs": [],
   "source": [
    "!sudo apt-get update\n",
    "!sudo apt-get install openjdk-11-jdk -y\n",
    "!java -version"
   ]
  },
  {
   "cell_type": "markdown",
   "id": "install-hadoop",
   "metadata": {},
   "source": [
    "# Install Hadoop"
   ]
  },
  {
   "cell_type": "code",
   "execution_count": null,
   "id": "download-hadoop",
   "metadata": {},
   "outputs": [],
   "source": [
    "!wget https://downloads.apache.org/hadoop/common/hadoop-3.3.6/hadoop-3.3.6.tar.gz"
   ]
  },
  {
   "cell_type": "code",
   "execution_count": null,
   "id": "b5fb6ecb",
   "metadata": {},
   "outputs": [],
   "source": [
    "!tar xvf hadoop-3.3.6.tar.gz"
   ]
  },
  {
   "cell_type": "code",
   "execution_count": null,
   "id": "2cd7da64",
   "metadata": {},
   "outputs": [],
   "source": [
    "!sudo mv hadoop-3.3.6 /opt/hadoop"
   ]
  },
  {
   "cell_type": "code",
   "execution_count": 6,
   "id": "hadoop-env-setup",
   "metadata": {},
   "outputs": [],
   "source": [
    "# Add Hadoop and Java environment variables to bashrc\n",
    "!echo 'export JAVA_HOME=/usr/lib/jvm/java-11-openjdk-amd64' >> ~/.bashrc\n",
    "!echo 'export HADOOP_HOME=/opt/hadoop' >> ~/.bashrc\n",
    "!echo 'export PATH=$JAVA_HOME/bin:$HADOOP_HOME/bin:$PATH' >> ~/.bashrc\n",
    "!source ~/.bashrc"
   ]
  },
  {
   "cell_type": "code",
   "execution_count": 16,
   "id": "5762586c",
   "metadata": {},
   "outputs": [],
   "source": [
    "!sed -i 's|# export JAVA_HOME=.*|export JAVA_HOME=/usr/lib/jvm/java-11-openjdk-amd64|' /opt/hadoop/etc/hadoop/hadoop-env.sh"
   ]
  },
  {
   "cell_type": "code",
   "execution_count": 19,
   "id": "f052e85c",
   "metadata": {},
   "outputs": [],
   "source": [
    "import os\n",
    "\n",
    "hadoop_env_path = '/opt/hadoop/etc/hadoop/hadoop-env.sh'\n",
    "\n",
    "# Check if the file exists\\n\",\n",
    "if os.path.exists(hadoop_env_path):\n",
    "    with open(hadoop_env_path, 'r') as file:\n",
    "            lines = file.readlines()\n",
    "\n",
    "    with open(hadoop_env_path, 'w') as file:\n",
    "        for line in lines:\n",
    "            if 'export HADOOP_NICENESS' in line:\n",
    "                file.write('# ' + line)\n",
    "            else:\n",
    "                file.write(line)\n",
    "else:\n",
    "    raise FileNotFoundError(f'{hadoop_env_path} does not exist.')\n"
   ]
  },
  {
   "cell_type": "markdown",
   "id": "install-hbase",
   "metadata": {},
   "source": [
    "# Install HBase"
   ]
  },
  {
   "cell_type": "code",
   "execution_count": null,
   "id": "download-hbase",
   "metadata": {},
   "outputs": [],
   "source": [
    "!wget https://downloads.apache.org/hbase/2.5.10/hbase-2.5.10-bin.tar.gz\n",
    "!tar xvf hbase-2.5.10-bin.tar.gz"
   ]
  },
  {
   "cell_type": "code",
   "execution_count": null,
   "id": "c29653ee",
   "metadata": {},
   "outputs": [],
   "source": [
    "!sudo mv hbase-2.5.10 /opt/hbase"
   ]
  },
  {
   "cell_type": "code",
   "execution_count": 8,
   "id": "configure-hbase-env",
   "metadata": {},
   "outputs": [],
   "source": [
    "# Update HBase environment configuration\n",
    "!sed -i 's|# export JAVA_HOME=.*|export JAVA_HOME=/usr/lib/jvm/java-11-openjdk-amd64|' /opt/hbase/conf/hbase-env.sh"
   ]
  },
  {
   "cell_type": "code",
   "execution_count": null,
   "id": "5e23eeda",
   "metadata": {},
   "outputs": [],
   "source": [
    "# Verify JAVA_HOME and set if necessary\\n\",\n",
    "import os\n",
    "\n",
    "# Check if JAVA_HOME is set, if not set it to the correct path\\n\",\n",
    "java_home = '/usr/lib/jvm/java-11-openjdk-amd64'\n",
    "if not os.path.exists(java_home):\n",
    "    raise FileNotFoundError(f'Java path not found: {java_home}')\n",
    "\n",
    "# Set JAVA_HOME and update PATH\\n\",\n",
    "os.environ['JAVA_HOME'] = java_home\n",
    "os.environ['PATH'] = java_home + '/bin:' + os.environ['PATH']\n",
    "\n",
    "# Verify the java version to confirm setup\\n\",\n",
    "!java -version"
   ]
  },
  {
   "cell_type": "code",
   "execution_count": null,
   "id": "start-hadoop",
   "metadata": {},
   "outputs": [],
   "source": [
    "# Start Hadoop services\n",
    "import os\n",
    "os.chdir('/opt/hadoop')\n",
    "!sbin/start-all.sh"
   ]
  },
  {
   "cell_type": "code",
   "execution_count": null,
   "id": "196e024a",
   "metadata": {},
   "outputs": [],
   "source": [
    "!jps"
   ]
  },
  {
   "cell_type": "code",
   "execution_count": null,
   "id": "start-hbase",
   "metadata": {},
   "outputs": [],
   "source": [
    "# Start HBase\n",
    "import os\n",
    "os.chdir('/opt/hbase')\n",
    "!bin/start-hbase.sh"
   ]
  },
  {
   "cell_type": "code",
   "execution_count": null,
   "id": "check-services",
   "metadata": {},
   "outputs": [],
   "source": [
    "# Check if Hadoop and HBase services are running\n",
    "!jps"
   ]
  },
  {
   "cell_type": "code",
   "execution_count": null,
   "id": "create-hbase-table",
   "metadata": {},
   "outputs": [],
   "source": [
    "# Create HBase Table\n",
    "hbase_commands = '''\n",
    "create 'my_table', 'cf1'\n",
    "list\n",
    "exit\n",
    "'''\n",
    "\n",
    "# Pass the commands to the HBase shell\n",
    "with open('create_table.txt', 'w') as file:\n",
    "    file.write(hbase_commands)\n",
    "\n",
    "!cat create_table.txt | /opt/hbase/bin/hbase shell"
   ]
  },
  {
   "cell_type": "markdown",
   "id": "hbase-web-ui",
   "metadata": {},
   "source": [
    "# Access HBase Web UI\n",
    "To access the HBase Web UI, open [http://localhost:16010](http://localhost:16010) in your web browser."
   ]
  }
 ],
 "metadata": {
  "kernelspec": {
   "display_name": "Python 3",
   "language": "python",
   "name": "python3"
  },
  "language_info": {
   "codemirror_mode": {
    "name": "ipython",
    "version": 3
   },
   "file_extension": ".py",
   "mimetype": "text/x-python",
   "name": "python",
   "nbconvert_exporter": "python",
   "pygments_lexer": "ipython3",
   "version": "3.12.3"
  }
 },
 "nbformat": 4,
 "nbformat_minor": 5
}
